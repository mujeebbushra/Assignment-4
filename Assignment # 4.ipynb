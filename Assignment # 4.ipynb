{
 "cells": [
  {
   "cell_type": "code",
   "execution_count": null,
   "id": "86e10748",
   "metadata": {},
   "outputs": [],
   "source": [
    "#Ques_1: Make a calculator using Python with addition,subtraction,multiplication,division and power.\n",
    "\n",
    "operation = input('''\n",
    "+ for addition\n",
    "- for subtraction\n",
    "* for multiplication\n",
    "/ for division\n",
    "^ for power\n",
    "''')\n",
    "\n",
    "number_1 = int(input('Enter your first number: '))\n",
    "number_2 = int(input('Enter your second number: '))\n",
    "\n",
    "if operation == '+':\n",
    "    print('{} + {} = '.format(number_1, number_2))\n",
    "    print(number_1 + number_2)\n",
    "\n",
    "elif operation == '-':\n",
    "    print('{} - {} = '.format(number_1, number_2))\n",
    "    print(number_1 - number_2)\n",
    "\n",
    "elif operation == '*':\n",
    "    print('{} * {} = '.format(number_1, number_2))\n",
    "    print(number_1 * number_2)\n",
    "\n",
    "elif operation == '/':\n",
    "    print('{} / {} = '.format(number_1, number_2))\n",
    "    print(number_1 / number_2)\n",
    "    \n",
    "elif operation == '^':\n",
    "    print('{} ^ {} = '.format(number_1, number_2))\n",
    "    print(number_1 ^ number_2)\n",
    "\n",
    "else:\n",
    "    print('please run the program again.')"
   ]
  },
  {
   "cell_type": "code",
   "execution_count": 8,
   "id": "f0e9a14a",
   "metadata": {},
   "outputs": [
    {
     "name": "stdout",
     "output_type": "stream",
     "text": [
      "12\n"
     ]
    }
   ],
   "source": [
    "#Ques_2: Write a program to check if there is any numeric value in list using for loop.\n",
    "\n",
    "list=[\"ab\" , 12 , \"cd\" , \"ef\"]\n",
    "for x in list:\n",
    "   if type(x) == int: \n",
    "        print(x)"
   ]
  },
  {
   "cell_type": "code",
   "execution_count": 4,
   "id": "f2e6a15f",
   "metadata": {},
   "outputs": [
    {
     "name": "stdout",
     "output_type": "stream",
     "text": [
      "{0: 10, 1: 20, 2: 30}\n",
      "{0: 10, 1: 20, 2: 30, 3: 40}\n"
     ]
    }
   ],
   "source": [
    "#Ques_3: Write a Python script to add a key to a dictionary.\n",
    "\n",
    "d = {0:10 , 1:20 , 2:30}\n",
    "print (d)\n",
    "d.update ({3:40})\n",
    "print (d)"
   ]
  },
  {
   "cell_type": "code",
   "execution_count": 5,
   "id": "9e6b0495",
   "metadata": {},
   "outputs": [
    {
     "name": "stdout",
     "output_type": "stream",
     "text": [
      "140\n"
     ]
    }
   ],
   "source": [
    "#Ques_4: Write a Python program to sum all the numeric items in a dictionary.\n",
    "\n",
    "dict = {'data1' : 80, 'data2' : -60 , 'data3' : 120}\n",
    "print (sum (dict. values ()))"
   ]
  },
  {
   "cell_type": "code",
   "execution_count": 10,
   "id": "b2a4ebb6",
   "metadata": {},
   "outputs": [
    {
     "name": "stdout",
     "output_type": "stream",
     "text": [
      "12 13 14 15 "
     ]
    }
   ],
   "source": [
    "#Ques_5: Write a program to identify duplicate values from list.\n",
    "\n",
    "l=[11,12,13,14,15,12,13,14,17,19,15]\n",
    "l1=[]\n",
    "for i in l:\n",
    "    if i not in l1:\n",
    "        l1.append(i)\n",
    "    else:\n",
    "        print(i,end=' ')"
   ]
  },
  {
   "cell_type": "code",
   "execution_count": 18,
   "id": "cff999cb",
   "metadata": {},
   "outputs": [
    {
     "name": "stdout",
     "output_type": "stream",
     "text": [
      "Key is already exists\n",
      "Key is not exists\n"
     ]
    }
   ],
   "source": [
    "#Ques_6: Write a Python script to check if a given key already exists in a dictionary.\n",
    "d = {1: 10, 2: 20, 3: 30, 4: 40, 5: 50, 6: 60}\n",
    "def is_key_exists(x):\n",
    "  if x in d:\n",
    "      print('Key is already exists')\n",
    "  else:\n",
    "      print('Key is not exists')\n",
    "        \n",
    "is_key_present(5)\n",
    "is_key_present(9)"
   ]
  },
  {
   "cell_type": "code",
   "execution_count": null,
   "id": "650f41da",
   "metadata": {},
   "outputs": [],
   "source": []
  }
 ],
 "metadata": {
  "kernelspec": {
   "display_name": "Python 3",
   "language": "python",
   "name": "python3"
  },
  "language_info": {
   "codemirror_mode": {
    "name": "ipython",
    "version": 3
   },
   "file_extension": ".py",
   "mimetype": "text/x-python",
   "name": "python",
   "nbconvert_exporter": "python",
   "pygments_lexer": "ipython3",
   "version": "3.8.8"
  }
 },
 "nbformat": 4,
 "nbformat_minor": 5
}
